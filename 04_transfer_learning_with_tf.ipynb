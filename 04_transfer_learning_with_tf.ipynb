{
  "nbformat": 4,
  "nbformat_minor": 0,
  "metadata": {
    "colab": {
      "provenance": [],
      "gpuType": "T4",
      "authorship_tag": "ABX9TyMkXPcNcyjoMdfHYazgXrUH",
      "include_colab_link": true
    },
    "kernelspec": {
      "name": "python3",
      "display_name": "Python 3"
    },
    "language_info": {
      "name": "python"
    },
    "accelerator": "GPU"
  },
  "cells": [
    {
      "cell_type": "markdown",
      "metadata": {
        "id": "view-in-github",
        "colab_type": "text"
      },
      "source": [
        "<a href=\"https://colab.research.google.com/github/Zardian18/Transfer-Learning-and-TensorBoard/blob/master/04_transfer_learning_with_tf.ipynb\" target=\"_parent\"><img src=\"https://colab.research.google.com/assets/colab-badge.svg\" alt=\"Open In Colab\"/></a>"
      ]
    },
    {
      "cell_type": "markdown",
      "source": [
        "# Transfer Learning with TF: Feature Extraction\n",
        "\n",
        "Transfer learning uses already build models and we can leverage it to fit our own needs"
      ],
      "metadata": {
        "id": "gSPeOUBTOhiq"
      }
    },
    {
      "cell_type": "markdown",
      "source": [
        "## Get data"
      ],
      "metadata": {
        "id": "-QcUAgEoOzma"
      }
    },
    {
      "cell_type": "code",
      "source": [
        "import zipfile\n",
        "\n",
        "!wget https://storage.googleapis.com/ztm_tf_course/food_vision/10_food_classes_10_percent.zip\n",
        "zip_ref= zipfile.ZipFile(\"10_food_classes_10_percent.zip\")\n",
        "zip_ref.extractall()\n",
        "zip_ref.close()"
      ],
      "metadata": {
        "colab": {
          "base_uri": "https://localhost:8080/"
        },
        "id": "flc_-YNAQTzg",
        "outputId": "90437ebc-b3fb-4016-adeb-79e5576ed92b"
      },
      "execution_count": 1,
      "outputs": [
        {
          "output_type": "stream",
          "name": "stdout",
          "text": [
            "--2023-08-13 15:53:35--  https://storage.googleapis.com/ztm_tf_course/food_vision/10_food_classes_10_percent.zip\n",
            "Resolving storage.googleapis.com (storage.googleapis.com)... 142.250.99.128, 172.253.117.128, 74.125.20.128, ...\n",
            "Connecting to storage.googleapis.com (storage.googleapis.com)|142.250.99.128|:443... connected.\n",
            "HTTP request sent, awaiting response... 200 OK\n",
            "Length: 168546183 (161M) [application/zip]\n",
            "Saving to: ‘10_food_classes_10_percent.zip’\n",
            "\n",
            "10_food_classes_10_ 100%[===================>] 160.74M   270MB/s    in 0.6s    \n",
            "\n",
            "2023-08-13 15:53:36 (270 MB/s) - ‘10_food_classes_10_percent.zip’ saved [168546183/168546183]\n",
            "\n"
          ]
        }
      ]
    },
    {
      "cell_type": "code",
      "source": [
        "import os\n",
        "\n",
        "for dirpath, dirnames, filenames in os.walk(\"10_food_classes_10_percent\"):\n",
        "  print(f'There are {len(dirnames)} directories and {len(filenames)} in \"{dirpath}\"')"
      ],
      "metadata": {
        "colab": {
          "base_uri": "https://localhost:8080/"
        },
        "id": "ZyzvaR8fQhb-",
        "outputId": "be64ea37-65e0-4520-e1c5-88f77e62f85c"
      },
      "execution_count": 2,
      "outputs": [
        {
          "output_type": "stream",
          "name": "stdout",
          "text": [
            "There are 2 directories and 0 in \"10_food_classes_10_percent\"\n",
            "There are 10 directories and 0 in \"10_food_classes_10_percent/test\"\n",
            "There are 0 directories and 250 in \"10_food_classes_10_percent/test/chicken_wings\"\n",
            "There are 0 directories and 250 in \"10_food_classes_10_percent/test/ice_cream\"\n",
            "There are 0 directories and 250 in \"10_food_classes_10_percent/test/steak\"\n",
            "There are 0 directories and 250 in \"10_food_classes_10_percent/test/sushi\"\n",
            "There are 0 directories and 250 in \"10_food_classes_10_percent/test/hamburger\"\n",
            "There are 0 directories and 250 in \"10_food_classes_10_percent/test/ramen\"\n",
            "There are 0 directories and 250 in \"10_food_classes_10_percent/test/fried_rice\"\n",
            "There are 0 directories and 250 in \"10_food_classes_10_percent/test/chicken_curry\"\n",
            "There are 0 directories and 250 in \"10_food_classes_10_percent/test/pizza\"\n",
            "There are 0 directories and 250 in \"10_food_classes_10_percent/test/grilled_salmon\"\n",
            "There are 10 directories and 0 in \"10_food_classes_10_percent/train\"\n",
            "There are 0 directories and 75 in \"10_food_classes_10_percent/train/chicken_wings\"\n",
            "There are 0 directories and 75 in \"10_food_classes_10_percent/train/ice_cream\"\n",
            "There are 0 directories and 75 in \"10_food_classes_10_percent/train/steak\"\n",
            "There are 0 directories and 75 in \"10_food_classes_10_percent/train/sushi\"\n",
            "There are 0 directories and 75 in \"10_food_classes_10_percent/train/hamburger\"\n",
            "There are 0 directories and 75 in \"10_food_classes_10_percent/train/ramen\"\n",
            "There are 0 directories and 75 in \"10_food_classes_10_percent/train/fried_rice\"\n",
            "There are 0 directories and 75 in \"10_food_classes_10_percent/train/chicken_curry\"\n",
            "There are 0 directories and 75 in \"10_food_classes_10_percent/train/pizza\"\n",
            "There are 0 directories and 75 in \"10_food_classes_10_percent/train/grilled_salmon\"\n"
          ]
        }
      ]
    },
    {
      "cell_type": "markdown",
      "source": [
        "## Preprocessing data"
      ],
      "metadata": {
        "id": "5OjouBjJRkut"
      }
    },
    {
      "cell_type": "code",
      "source": [
        "from tensorflow.keras.preprocessing.image import ImageDataGenerator\n",
        "\n",
        "IMAGE_SHAPE=(224,224)\n",
        "BATCH_SIZE=32\n",
        "\n",
        "train_dir= \"10_food_classes_10_percent/train/\"\n",
        "test_dir=\"10_food_classes_10_percent/test/\"\n",
        "\n",
        "train_datagen= ImageDataGenerator(rescale=1/255.)\n",
        "test_datagen=ImageDataGenerator(rescale=1/255.)\n",
        "\n",
        "\n",
        "train_data_10_percent= train_datagen.flow_from_directory(directory=train_dir,\n",
        "                                                         target_size=IMAGE_SHAPE,\n",
        "                                                         batch_size=BATCH_SIZE,\n",
        "                                                         class_mode=\"categorical\")\n",
        "\n",
        "test_data=test_datagen.flow_from_directory(directory=test_dir,\n",
        "                                           target_size=IMAGE_SHAPE,\n",
        "                                           batch_size=BATCH_SIZE,\n",
        "                                           class_mode=\"categorical\")"
      ],
      "metadata": {
        "colab": {
          "base_uri": "https://localhost:8080/"
        },
        "id": "vaDh-p3vR8Nz",
        "outputId": "f131f886-a0ac-42fa-9b36-a30b29d2de8a"
      },
      "execution_count": 3,
      "outputs": [
        {
          "output_type": "stream",
          "name": "stdout",
          "text": [
            "Found 750 images belonging to 10 classes.\n",
            "Found 2500 images belonging to 10 classes.\n"
          ]
        }
      ]
    },
    {
      "cell_type": "markdown",
      "source": [
        "## Setting up callbacks\n",
        "\n",
        "Three main we are going to use:\n",
        "\n",
        "* Tracking experiments with Tensorboard callback\n",
        "* Model checkpoint with ModelCheckPoint callback\n",
        "* Stopping a model from overfitting with EarlyStopping Callback"
      ],
      "metadata": {
        "id": "3VBAhZ_VTFVF"
      }
    },
    {
      "cell_type": "markdown",
      "source": [
        "### Create Tensorboard callback"
      ],
      "metadata": {
        "id": "1ZMVZjj6UUDM"
      }
    },
    {
      "cell_type": "code",
      "source": [
        "import tensorflow_hub as hub\n",
        "import tensorboard"
      ],
      "metadata": {
        "id": "yAMQiF6DlFVy"
      },
      "execution_count": 4,
      "outputs": []
    },
    {
      "cell_type": "code",
      "source": [
        "import datetime\n",
        "\n",
        "def create_tensorboard_callback(dir_name, experiment_name):\n",
        "\n",
        "  log_dir= dir_name+\"/\"+ experiment_name+\"/\" + datetime.datetime.now().strftime(\"%Y%m%d-%H%M%S\")\n",
        "  tensorboard_callback= tf.keras.callbacks.TensorBoard(log_dir=log_dir)\n",
        "  print(f\"Saving Tensorboard Callbacks to {log_dir}\")\n",
        "  return tensorboard_callback"
      ],
      "metadata": {
        "id": "-id2okRgVc1i"
      },
      "execution_count": 5,
      "outputs": []
    },
    {
      "cell_type": "code",
      "source": [
        "!mkdir model_testing"
      ],
      "metadata": {
        "id": "08-gH2JakpW5"
      },
      "execution_count": 6,
      "outputs": []
    },
    {
      "cell_type": "markdown",
      "source": [
        "## Creating models using Tensorflow Hub\n"
      ],
      "metadata": {
        "id": "JZwerYVBW-cN"
      }
    },
    {
      "cell_type": "code",
      "source": [
        "efficientnet_url=\"https://tfhub.dev/tensorflow/efficientnet/b0/feature-vector/1\"\n",
        "resnet_url=\"https://tfhub.dev/google/imagenet/resnet_v2_50/feature_vector/5\"\n"
      ],
      "metadata": {
        "id": "BBrNZKdxXgIi"
      },
      "execution_count": 7,
      "outputs": []
    },
    {
      "cell_type": "code",
      "source": [
        "import tensorflow as tf\n",
        "import tensorflow_hub as hub\n",
        "from tensorflow.keras import layers"
      ],
      "metadata": {
        "id": "bL_XLqRJaxVU"
      },
      "execution_count": 8,
      "outputs": []
    },
    {
      "cell_type": "code",
      "source": [
        "def create_model(model_url, num_classes=10):\n",
        "\n",
        "  feature_extractor_layer= hub.KerasLayer(model_url,\n",
        "                                          trainable=False,\n",
        "                                          name=\"feature_extraction_layer\",\n",
        "                                          input_shape=IMAGE_SHAPE+(3,)) # Freezes already learnt patterns\n",
        "\n",
        "  model=tf.keras.Sequential()\n",
        "  model.add(feature_extractor_layer)\n",
        "  model.add(tf.keras.layers.Dense(10, activation='softmax', name='output_layer'))\n",
        "\n",
        "  return model"
      ],
      "metadata": {
        "id": "GeUMRarPbPHy"
      },
      "execution_count": 9,
      "outputs": []
    },
    {
      "cell_type": "markdown",
      "source": [
        "### resnet model with tensorflow hub\n",
        "\n"
      ],
      "metadata": {
        "id": "imcBEBV6gtbC"
      }
    },
    {
      "cell_type": "code",
      "source": [
        "resnet_model=create_model(resnet_url)"
      ],
      "metadata": {
        "id": "I8uvWNfag8kA"
      },
      "execution_count": 10,
      "outputs": []
    },
    {
      "cell_type": "code",
      "source": [
        "resnet_model.summary()"
      ],
      "metadata": {
        "colab": {
          "base_uri": "https://localhost:8080/"
        },
        "id": "g-UMnAgdhBR9",
        "outputId": "3c9ef621-b5f2-46c2-bdb5-958232a42a8b"
      },
      "execution_count": 11,
      "outputs": [
        {
          "output_type": "stream",
          "name": "stdout",
          "text": [
            "Model: \"sequential\"\n",
            "_________________________________________________________________\n",
            " Layer (type)                Output Shape              Param #   \n",
            "=================================================================\n",
            " feature_extraction_layer (K  (None, 2048)             23564800  \n",
            " erasLayer)                                                      \n",
            "                                                                 \n",
            " output_layer (Dense)        (None, 10)                20490     \n",
            "                                                                 \n",
            "=================================================================\n",
            "Total params: 23,585,290\n",
            "Trainable params: 20,490\n",
            "Non-trainable params: 23,564,800\n",
            "_________________________________________________________________\n"
          ]
        }
      ]
    },
    {
      "cell_type": "code",
      "source": [
        "resnet_model.compile(loss=tf.keras.losses.CategoricalCrossentropy(),\n",
        "                     optimizer=tf.keras.optimizers.Adam(),\n",
        "                     metrics=[\"accuracy\"])"
      ],
      "metadata": {
        "id": "Em6fo711hPsI"
      },
      "execution_count": 12,
      "outputs": []
    },
    {
      "cell_type": "code",
      "source": [
        "history_resnet=resnet_model.fit(train_data_10_percent,\n",
        "                                epochs=5,\n",
        "                                steps_per_epoch=len(train_data_10_percent),\n",
        "                                validation_data=test_data,\n",
        "                                validation_steps=len(test_data),\n",
        "                                callbacks=create_tensorboard_callback(\"model_testing\", \"resnet_train\"))"
      ],
      "metadata": {
        "colab": {
          "base_uri": "https://localhost:8080/"
        },
        "id": "7PnHkLNCjw5Z",
        "outputId": "13245a5d-71b7-4090-ee8b-04c5808313f6"
      },
      "execution_count": 13,
      "outputs": [
        {
          "output_type": "stream",
          "name": "stdout",
          "text": [
            "Saving Tensorboard Callbacks to model_testing/resnet_train/20230813-155415\n",
            "Epoch 1/5\n",
            "24/24 [==============================] - 26s 552ms/step - loss: 1.9639 - accuracy: 0.3400 - val_loss: 1.2693 - val_accuracy: 0.5824\n",
            "Epoch 2/5\n",
            "24/24 [==============================] - 11s 479ms/step - loss: 0.9501 - accuracy: 0.7107 - val_loss: 0.8700 - val_accuracy: 0.7156\n",
            "Epoch 3/5\n",
            "24/24 [==============================] - 10s 448ms/step - loss: 0.6439 - accuracy: 0.8133 - val_loss: 0.7591 - val_accuracy: 0.7528\n",
            "Epoch 4/5\n",
            "24/24 [==============================] - 10s 447ms/step - loss: 0.5008 - accuracy: 0.8653 - val_loss: 0.7240 - val_accuracy: 0.7632\n",
            "Epoch 5/5\n",
            "24/24 [==============================] - 10s 448ms/step - loss: 0.3975 - accuracy: 0.9027 - val_loss: 0.6927 - val_accuracy: 0.7724\n"
          ]
        }
      ]
    },
    {
      "cell_type": "code",
      "source": [
        "import pandas as pd\n",
        "import numpy as np\n",
        "import matplotlib.pyplot as plt\n",
        "\n",
        "def plot_history(history):\n",
        "\n",
        "  loss= history.history['loss']\n",
        "  accuracy=history.history['accuracy']\n",
        "  val_loss= history.history['val_loss']\n",
        "  val_accuracy=history.history['val_accuracy']\n",
        "  epoch= range(len(history.history['loss']))\n",
        "\n",
        "\n",
        "  plt.plot(epoch, loss, label=\"Training loss\")\n",
        "  plt.plot(epoch, val_loss, label=\"Test loss\")\n",
        "\n",
        "  plt.figure()\n",
        "\n",
        "  plt.plot(epoch, accuracy, label=\"Training accuracy\")\n",
        "  plt.plot(epoch, val_accuracy, label=\"Test accuracy\")\n",
        "\n",
        "  plt.legend();\n",
        ""
      ],
      "metadata": {
        "id": "KWS_90qNkRHy"
      },
      "execution_count": 14,
      "outputs": []
    },
    {
      "cell_type": "code",
      "source": [
        "plot_history(history_resnet)"
      ],
      "metadata": {
        "colab": {
          "base_uri": "https://localhost:8080/",
          "height": 843
        },
        "id": "X4ILACA_onxq",
        "outputId": "70dc1235-fc8f-47c3-af9c-4664b2397b7b"
      },
      "execution_count": 15,
      "outputs": [
        {
          "output_type": "display_data",
          "data": {
            "text/plain": [
              "<Figure size 640x480 with 1 Axes>"
            ],
            "image/png": "[encoded data removed]"
          },
          "metadata": {}
        },
        {
          "output_type": "display_data",
          "data": {
            "text/plain": [
              "<Figure size 640x480 with 1 Axes>"
            ],
            "image/png": "[encoded data removed]"
          },
          "metadata": {}
        }
      ]
    },
    {
      "cell_type": "code",
      "source": [
        "efficientnet_model= create_model(efficientnet_url)"
      ],
      "metadata": {
        "id": "w1Ce0Szjoqk1"
      },
      "execution_count": 16,
      "outputs": []
    },
    {
      "cell_type": "code",
      "source": [
        "efficientnet_model.compile(loss=tf.keras.losses.CategoricalCrossentropy(),\n",
        "                           optimizer=tf.keras.optimizers.Adam(),\n",
        "                           metrics=['accuracy'])\n"
      ],
      "metadata": {
        "id": "1_t8gJixpPs-"
      },
      "execution_count": 17,
      "outputs": []
    },
    {
      "cell_type": "code",
      "source": [
        "efficientnet_model.summary()"
      ],
      "metadata": {
        "colab": {
          "base_uri": "https://localhost:8080/"
        },
        "id": "X1RY1bHnpcOG",
        "outputId": "4da70254-3082-426c-ec0f-24fb241fb78e"
      },
      "execution_count": 18,
      "outputs": [
        {
          "output_type": "stream",
          "name": "stdout",
          "text": [
            "Model: \"sequential_1\"\n",
            "_________________________________________________________________\n",
            " Layer (type)                Output Shape              Param #   \n",
            "=================================================================\n",
            " feature_extraction_layer (K  (None, 1280)             4049564   \n",
            " erasLayer)                                                      \n",
            "                                                                 \n",
            " output_layer (Dense)        (None, 10)                12810     \n",
            "                                                                 \n",
            "=================================================================\n",
            "Total params: 4,062,374\n",
            "Trainable params: 12,810\n",
            "Non-trainable params: 4,049,564\n",
            "_________________________________________________________________\n"
          ]
        }
      ]
    },
    {
      "cell_type": "code",
      "source": [
        "history_efficientnet= efficientnet_model.fit(train_data_10_percent,\n",
        "                                             epochs=5,\n",
        "                                             steps_per_epoch=len(train_data_10_percent),\n",
        "                                             validation_data=test_data,\n",
        "                                             validation_steps=len(test_data),\n",
        "                                             callbacks=create_tensorboard_callback(\"model_testing\",\"efficientnet\"))"
      ],
      "metadata": {
        "colab": {
          "base_uri": "https://localhost:8080/"
        },
        "id": "qJZiKKN4peS6",
        "outputId": "cd2defc0-236d-438b-9f77-59664cfc4b2c"
      },
      "execution_count": 19,
      "outputs": [
        {
          "output_type": "stream",
          "name": "stdout",
          "text": [
            "Saving Tensorboard Callbacks to model_testing/efficientnet/20230813-160809\n",
            "Epoch 1/5\n",
            "24/24 [==============================] - 26s 617ms/step - loss: 1.9068 - accuracy: 0.3893 - val_loss: 1.3462 - val_accuracy: 0.7024\n",
            "Epoch 2/5\n",
            "24/24 [==============================] - 10s 426ms/step - loss: 1.0790 - accuracy: 0.7813 - val_loss: 0.8886 - val_accuracy: 0.8172\n",
            "Epoch 3/5\n",
            "24/24 [==============================] - 10s 424ms/step - loss: 0.7662 - accuracy: 0.8373 - val_loss: 0.7124 - val_accuracy: 0.8376\n",
            "Epoch 4/5\n",
            "24/24 [==============================] - 10s 408ms/step - loss: 0.6155 - accuracy: 0.8653 - val_loss: 0.6250 - val_accuracy: 0.8492\n",
            "Epoch 5/5\n",
            "24/24 [==============================] - 23s 1s/step - loss: 0.5178 - accuracy: 0.8827 - val_loss: 0.5687 - val_accuracy: 0.8616\n"
          ]
        }
      ]
    },
    {
      "cell_type": "code",
      "source": [
        "plot_history(history_efficientnet)"
      ],
      "metadata": {
        "colab": {
          "base_uri": "https://localhost:8080/",
          "height": 843
        },
        "id": "SlJK90CCp6MW",
        "outputId": "de82c6c7-1c7e-49a8-d12c-84f8da60271a"
      },
      "execution_count": 20,
      "outputs": [
        {
          "output_type": "display_data",
          "data": {
            "text/plain": [
              "<Figure size 640x480 with 1 Axes>"
            ],
            "image/png": "[encoded data removed]"
          },
          "metadata": {}
        },
        {
          "output_type": "display_data",
          "data": {
            "text/plain": [
              "<Figure size 640x480 with 1 Axes>"
            ],
            "image/png": "[encoded data removed]"
          },
          "metadata": {}
        }
      ]
    },
    {
      "cell_type": "code",
      "source": [
        "efficientnet_model.summary()"
      ],
      "metadata": {
        "colab": {
          "base_uri": "https://localhost:8080/"
        },
        "id": "qIF993-VqV6G",
        "outputId": "aa718dbb-9ddd-465d-86e9-4f682638bb46"
      },
      "execution_count": 21,
      "outputs": [
        {
          "output_type": "stream",
          "name": "stdout",
          "text": [
            "Model: \"sequential_1\"\n",
            "_________________________________________________________________\n",
            " Layer (type)                Output Shape              Param #   \n",
            "=================================================================\n",
            " feature_extraction_layer (K  (None, 1280)             4049564   \n",
            " erasLayer)                                                      \n",
            "                                                                 \n",
            " output_layer (Dense)        (None, 10)                12810     \n",
            "                                                                 \n",
            "=================================================================\n",
            "Total params: 4,062,374\n",
            "Trainable params: 12,810\n",
            "Non-trainable params: 4,049,564\n",
            "_________________________________________________________________\n"
          ]
        }
      ]
    },
    {
      "cell_type": "code",
      "source": [
        "resnet_model.summary()"
      ],
      "metadata": {
        "colab": {
          "base_uri": "https://localhost:8080/"
        },
        "id": "-uL2vbcLrZYx",
        "outputId": "9531ca61-d9f0-4f02-f764-0b5cfaadc0ce"
      },
      "execution_count": 22,
      "outputs": [
        {
          "output_type": "stream",
          "name": "stdout",
          "text": [
            "Model: \"sequential\"\n",
            "_________________________________________________________________\n",
            " Layer (type)                Output Shape              Param #   \n",
            "=================================================================\n",
            " feature_extraction_layer (K  (None, 2048)             23564800  \n",
            " erasLayer)                                                      \n",
            "                                                                 \n",
            " output_layer (Dense)        (None, 10)                20490     \n",
            "                                                                 \n",
            "=================================================================\n",
            "Total params: 23,585,290\n",
            "Trainable params: 20,490\n",
            "Non-trainable params: 23,564,800\n",
            "_________________________________________________________________\n"
          ]
        }
      ]
    },
    {
      "cell_type": "markdown",
      "source": [
        "## Types of transfer learning\n",
        "\n",
        "* **\"As is\"**: using existing model and making no changes\n",
        "* **\"Feature extraction\"**: using prelearnt pattern of an existing model and adjust output layer accordingly\n",
        "* **\"Fine-Tuning\"**: use prelearnt patterns and fine tune many or all underlying layers"
      ],
      "metadata": {
        "id": "HVSZsnUUra-C"
      }
    },
    {
      "cell_type": "code",
      "source": [
        "len(efficientnet_model.layers[0].weights)"
      ],
      "metadata": {
        "colab": {
          "base_uri": "https://localhost:8080/"
        },
        "id": "bB7rxCFQv_Xz",
        "outputId": "2235878b-8c31-4db6-ed08-86645ee6f2e3"
      },
      "execution_count": 23,
      "outputs": [
        {
          "output_type": "execute_result",
          "data": {
            "text/plain": [
              "309"
            ]
          },
          "metadata": {},
          "execution_count": 23
        }
      ]
    },
    {
      "cell_type": "markdown",
      "source": [
        "## Comparing our model's results using tensorboard"
      ],
      "metadata": {
        "id": "pkd9x6V6wVr7"
      }
    },
    {
      "cell_type": "code",
      "source": [
        "# upload tensorboard dev records\n",
        "\n",
        "!tensorboard dev upload --logdir ./model_testing/ \\\n",
        "--name \"EfficientNetB0 vs Resnet50V2\" \\\n",
        "--description \"Comparing two different TF hub feature extraction\" \\\n",
        "--one_shot"
      ],
      "metadata": {
        "id": "CiKPAOH0xacV"
      },
      "execution_count": null,
      "outputs": []
    },
    {
      "cell_type": "markdown",
      "source": [
        "## Tensorboard Experiments:\n",
        "\n",
        "link: https://tensorboard.dev/experiment/M2X3DeBLTZOqu4CBWNA6PQ/"
      ],
      "metadata": {
        "id": "6yoKwGMDykGy"
      }
    },
    {
      "cell_type": "code",
      "source": [
        "!tensorboard dev list"
      ],
      "metadata": {
        "colab": {
          "base_uri": "https://localhost:8080/"
        },
        "id": "qg61-oX9zxLA",
        "outputId": "e209634a-64e5-4e9e-8693-a913afa887d3"
      },
      "execution_count": 25,
      "outputs": [
        {
          "output_type": "stream",
          "name": "stdout",
          "text": [
            "2023-08-13 16:52:22.187706: W tensorflow/compiler/tf2tensorrt/utils/py_utils.cc:38] TF-TRT Warning: Could not find TensorRT\n",
            "https://tensorboard.dev/experiment/M2X3DeBLTZOqu4CBWNA6PQ/\n",
            "\tName                 EfficientNetB0 vs Resnet50V2\n",
            "\tDescription          Comparing two different TF hub feature extraction\n",
            "\tId                   M2X3DeBLTZOqu4CBWNA6PQ\n",
            "\tCreated              2023-08-13 16:47:14 (5 minutes ago)\n",
            "\tUpdated              2023-08-13 16:47:16 (5 minutes ago)\n",
            "\tRuns                 4\n",
            "\tTags                 5\n",
            "\tScalars              60\n",
            "\tTensor bytes         0\n",
            "\tBinary object bytes  5811169\n",
            "Total: 1 experiment(s)\n"
          ]
        }
      ]
    },
    {
      "cell_type": "code",
      "source": [],
      "metadata": {
        "id": "TIHrKWa70BJl"
      },
      "execution_count": null,
      "outputs": []
    }
  ]
}